{
  "nbformat": 4,
  "nbformat_minor": 0,
  "metadata": {
    "colab": {
      "provenance": []
    },
    "kernelspec": {
      "name": "python3",
      "display_name": "Python 3"
    },
    "language_info": {
      "name": "python"
    }
  },
  "cells": [
    {
      "cell_type": "markdown",
      "source": [
        "# Import Google Colab utilities\n"
      ],
      "metadata": {
        "id": "QA0W0u9Q-GYg"
      }
    },
    {
      "cell_type": "code",
      "execution_count": null,
      "metadata": {
        "id": "ymo9bqsC9kFj"
      },
      "outputs": [],
      "source": [
        "from google.colab import files      # Import the files module from Google Colab to handle file uploads\n",
        "uploaded = files.upload()           # Opens a file upload dialog and stores uploaded files in a dictionary\n"
      ]
    },
    {
      "cell_type": "markdown",
      "source": [
        "#Import required libraries"
      ],
      "metadata": {
        "id": "kHKPbR2l-Pm1"
      }
    },
    {
      "cell_type": "code",
      "source": [
        "import pandas as pd                 # For handling and analyzing tabular data (CSV, DataFrames, etc.)\n",
        "import numpy as np                  # For numerical operations, arrays, and mathematical computations\n",
        "from sklearn.model_selection import train_test_split    # For splitting dataset into training and testing sets\n",
        "from sklearn.preprocessing import StandardScaler        # For normalizing features (scaling inputs)\n",
        "import tensorflow as tf             # TensorFlow for building ML/DL models\n",
        "from tensorflow import keras        # Keras high-level API for TensorFlow\n",
        "from tensorflow.keras import layers # To build neural network layers easily\n"
      ],
      "metadata": {
        "id": "x_kspebz-Oke"
      },
      "execution_count": null,
      "outputs": []
    },
    {
      "cell_type": "markdown",
      "source": [
        "#1. Load Data"
      ],
      "metadata": {
        "id": "ictYR3b2-dyq"
      }
    },
    {
      "cell_type": "code",
      "source": [
        "df = pd.read_csv(\"openclock2.csv\")       # Load dataset from CSV file into a Pandas DataFrame\n",
        "df.columns = df.columns.str.strip()      # Remove any leading/trailing whitespace from column names\n",
        "\n",
        "print(\"Original dataset shape:\", df.shape)  # Print number of rows and columns in the dataset\n",
        "print(df.head())                           # Print first 5 rows to inspect dataset\n"
      ],
      "metadata": {
        "id": "ZQ1MEX41-Zh_"
      },
      "execution_count": null,
      "outputs": []
    },
    {
      "cell_type": "markdown",
      "source": [
        "\n",
        "# 2. Data Augmentation: mirror left/right and invert steering\n"
      ],
      "metadata": {
        "id": "goGJ2BkZ-otl"
      }
    },
    {
      "cell_type": "code",
      "source": [
        "df_mirrored = df.copy()                                  # Make a copy of the dataset for augmentation\n",
        "df_mirrored[[\"left\", \"right\"]] = df_mirrored[[\"right\", \"left\"]].values\n",
        "# Swap \"left\" and \"right\" sensor values to simulate mirrored driving\n",
        "\n",
        "df_mirrored[\"steering\"] = -df_mirrored[\"steering\"]       # Invert steering values for mirrored data\n",
        "\n",
        "# Concatenate original dataset with the mirrored dataset\n",
        "df = pd.concat([df, df_mirrored], ignore_index=True)     # Merge and reset index\n",
        "print(\"Augmented dataset shape:\", df.shape)"
      ],
      "metadata": {
        "id": "G1Oj8iS7-klz"
      },
      "execution_count": null,
      "outputs": []
    },
    {
      "cell_type": "markdown",
      "source": [
        "# 3. Features & labels"
      ],
      "metadata": {
        "id": "Jd-yx4qR-2S5"
      }
    },
    {
      "cell_type": "code",
      "source": [
        "X = df[[\"left\", \"right\", \"front\"]].values    # Select sensor columns as features (inputs)\n",
        "y = df[\"steering\"].values                    # Select steering column as target (output)\n",
        "\n",
        "# Scale steering labels into range [-1, 1]\n",
        "y = y / 22.0    # Assuming max steering value is ~22, dividing normalizes steering outputs\n",
        "\n",
        "# Split dataset into training and testing sets\n",
        "X_train, X_test, y_train, y_test = train_test_split(\n",
        "    X, y, test_size=0.2, random_state=42, shuffle=True\n",
        ")\n",
        "# 80% training, 20% testing, random_state=42 ensures reproducibility, shuffle ensures randomness\n",
        "\n",
        "# Normalize input features (left, right, front) so they have mean=0 and std=1\n",
        "scaler = StandardScaler()\n",
        "X_train = scaler.fit_transform(X_train)   # Fit scaler on training set and transform it\n",
        "X_test = scaler.transform(X_test)         # Transform test set using same scaler (no data leakage)\n"
      ],
      "metadata": {
        "id": "Etlgo0ao-1qe"
      },
      "execution_count": null,
      "outputs": []
    },
    {
      "cell_type": "markdown",
      "source": [
        "# 4. Build Model (Huber loss + zero bias)"
      ],
      "metadata": {
        "id": "f-96tO_Y_DBN"
      }
    },
    {
      "cell_type": "code",
      "source": [
        "model = keras.Sequential([\n",
        "\n",
        "    layers.Input(shape=(X_train.shape[1],)),       # Input layer, shape = number of features (3: left, right, front)\n",
        "\n",
        "    layers.Dense(32, activation=\"relu\"),           # First hidden layer with 32 neurons and ReLU activation\n",
        "    layers.Dense(32, activation=\"relu\"),           # Second hidden layer with 32 neurons and ReLU activation\n",
        "    layers.Dense(16, activation=\"relu\"),           # Third hidden layer with 16 neurons and ReLU activation\n",
        "\n",
        "    layers.Dense(\n",
        "        1,                                         # Output layer: single value (steering)\n",
        "        activation=\"linear\",                       # Linear activation because we want continuous output\n",
        "        kernel_initializer=\"glorot_uniform\",       # Xavier initialization for weights\n",
        "        bias_initializer=\"zeros\"                   # Start biases at 0\n",
        "    )\n",
        "])\n",
        "\n",
        "# Compile the model\n",
        "model.compile(\n",
        "    optimizer=tf.keras.optimizers.Adam(learning_rate=0.001),  # Adam optimizer with learning rate 0.001\n",
        "    loss=tf.keras.losses.Huber(),                            # Huber loss (robust to outliers)\n",
        "    metrics=[\"mae\"]                                          # Track Mean Absolute Error during training\n",
        ")"
      ],
      "metadata": {
        "id": "lk3mHr_m-9ZR"
      },
      "execution_count": null,
      "outputs": []
    },
    {
      "cell_type": "markdown",
      "source": [
        "# 5. Train"
      ],
      "metadata": {
        "id": "udNOA60r_Ljl"
      }
    },
    {
      "cell_type": "code",
      "source": [
        "history = model.fit(\n",
        "    X_train, y_train,                     # Training data\n",
        "    validation_data=(X_test, y_test),     # Validation data (to monitor overfitting)\n",
        "    epochs=500,                           # Train for 500 epochs\n",
        "    batch_size=32,                        # Use mini-batches of 32 samples\n",
        "    verbose=1                             # Show training progress\n",
        ")"
      ],
      "metadata": {
        "id": "4Pcz5BDN-9Vo"
      },
      "execution_count": null,
      "outputs": []
    },
    {
      "cell_type": "markdown",
      "source": [
        "# 6. Save model"
      ],
      "metadata": {
        "id": "CB25t893_Ybg"
      }
    },
    {
      "cell_type": "code",
      "source": [
        "model.save(\"steering_model.h5\")     # Save trained Keras model in HDF5 format\n",
        "print(\"✅ Keras model (with mirrored negatives) saved as steering_model.h5\")\n"
      ],
      "metadata": {
        "id": "0zZhoHz5-9SR"
      },
      "execution_count": null,
      "outputs": []
    },
    {
      "cell_type": "markdown",
      "source": [
        "# 7. Convert to TFLite"
      ],
      "metadata": {
        "id": "syEd1w3w_hHU"
      }
    },
    {
      "cell_type": "code",
      "source": [
        "converter = tf.lite.TFLiteConverter.from_keras_model(model)    # Create a TFLite converter from trained Keras model\n",
        "converter._experimental_lower_tensor_list_ops = True           # Enable experimental optimizations\n",
        "converter.experimental_enable_resource_variables = False       # Disable resource variables (for compatibility)\n",
        "\n",
        "tflite_model = converter.convert()    # Convert Keras model into TFLite format\n",
        "\n",
        "# Save the TFLite model\n",
        "with open(\"steering_model_openclock.tflite\", \"wb\") as f:\n",
        "    f.write(tflite_model)\n",
        "\n",
        "print(\"✅ TFLite model saved as steering_model.tflite\")"
      ],
      "metadata": {
        "id": "3irzKUCV_gyZ"
      },
      "execution_count": null,
      "outputs": []
    },
    {
      "cell_type": "markdown",
      "source": [
        "After the conversion to tflite model, we need to convert it into kmodel for running it in CanMV K230"
      ],
      "metadata": {
        "id": "t7oElU_q_nfB"
      }
    }
  ]
}